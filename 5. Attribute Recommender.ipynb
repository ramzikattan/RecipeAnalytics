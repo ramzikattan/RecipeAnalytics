{
 "cells": [
  {
   "cell_type": "code",
   "execution_count": 5,
   "metadata": {},
   "outputs": [],
   "source": [
    "import spacy\n",
    "import pandas as pd"
   ]
  },
  {
   "cell_type": "code",
   "execution_count": 4,
   "metadata": {},
   "outputs": [],
   "source": [
    "# Import Medium Spacy File \n",
    "nlp = spacy.load('en_core_web_md')"
   ]
  },
  {
   "cell_type": "code",
   "execution_count": 21,
   "metadata": {},
   "outputs": [],
   "source": [
    "# Input Files\n",
    "recipes = pd.read_csv('4. FeasibleRecipes.csv')\n",
    "useroutput = pd.read_csv('3. UserOutput.csv')\n",
    "\n",
    "# Attribute Column\n",
    "attributes = useroutput['attributes'].dropna()"
   ]
  },
  {
   "cell_type": "code",
   "execution_count": 62,
   "metadata": {},
   "outputs": [
    {
     "name": "stdout",
     "output_type": "stream",
     "text": [
      "330 recipes that meet your requirements found!\n"
     ]
    }
   ],
   "source": [
    "# Create Threshold for Feasibility Scores\n",
    "feasible_recipes = recipes[recipes['feasibility_score'] >= 0.75]\n",
    "\n",
    "print(f\"{len(feasible_recipes)} recipes that meet your requirements found!\")"
   ]
  },
  {
   "cell_type": "code",
   "execution_count": 63,
   "metadata": {},
   "outputs": [],
   "source": [
    "# Spacy Similarity\n",
    "doc1 = nlp(''.join(attributes))\n",
    "\n",
    "# Initializing Similarity List \n",
    "spacy_scores = []\n",
    "\n",
    "# Calculating Similarity\n",
    "for text2 in feasible_recipes['review']:\n",
    "    try:\n",
    "        doc2 = nlp(text2)\n",
    "        spacy_scores.append(doc1.similarity(doc2))\n",
    "    except: \n",
    "        spacy_scores.append(0)"
   ]
  },
  {
   "cell_type": "code",
   "execution_count": 66,
   "metadata": {},
   "outputs": [
    {
     "name": "stderr",
     "output_type": "stream",
     "text": [
      "/var/folders/j4/01bw0t0n5195l3682d9brqz40000gn/T/ipykernel_30402/2542721314.py:2: SettingWithCopyWarning: \n",
      "A value is trying to be set on a copy of a slice from a DataFrame.\n",
      "Try using .loc[row_indexer,col_indexer] = value instead\n",
      "\n",
      "See the caveats in the documentation: https://pandas.pydata.org/pandas-docs/stable/user_guide/indexing.html#returning-a-view-versus-a-copy\n",
      "  feasible_recipes['Review Similarity'] = spacy_scores\n"
     ]
    }
   ],
   "source": [
    "# Saving Review Similarity Score\n",
    "feasible_recipes['Review Similarity'] = spacy_scores"
   ]
  },
  {
   "cell_type": "code",
   "execution_count": 69,
   "metadata": {},
   "outputs": [],
   "source": [
    "recommendations = feasible_recipes[['name', 'ingredients', 'feasibility_score', 'cook_time', 'rating', 'category', 'url', 'Review Similarity']].groupby(['name', 'ingredients', 'feasibility_score', 'cook_time', 'rating', 'category', 'url']).mean('Review Similarity').sort_values('feasibility_score', ascending = False)"
   ]
  },
  {
   "cell_type": "code",
   "execution_count": 70,
   "metadata": {},
   "outputs": [
    {
     "data": {
      "text/html": [
       "<div>\n",
       "<style scoped>\n",
       "    .dataframe tbody tr th:only-of-type {\n",
       "        vertical-align: middle;\n",
       "    }\n",
       "\n",
       "    .dataframe tbody tr th {\n",
       "        vertical-align: top;\n",
       "    }\n",
       "\n",
       "    .dataframe thead th {\n",
       "        text-align: right;\n",
       "    }\n",
       "</style>\n",
       "<table border=\"1\" class=\"dataframe\">\n",
       "  <thead>\n",
       "    <tr style=\"text-align: right;\">\n",
       "      <th></th>\n",
       "      <th></th>\n",
       "      <th></th>\n",
       "      <th></th>\n",
       "      <th></th>\n",
       "      <th></th>\n",
       "      <th></th>\n",
       "      <th>Review Similarity</th>\n",
       "    </tr>\n",
       "    <tr>\n",
       "      <th>name</th>\n",
       "      <th>ingredients</th>\n",
       "      <th>feasibility_score</th>\n",
       "      <th>cook_time</th>\n",
       "      <th>rating</th>\n",
       "      <th>category</th>\n",
       "      <th>url</th>\n",
       "      <th></th>\n",
       "    </tr>\n",
       "  </thead>\n",
       "  <tbody>\n",
       "    <tr>\n",
       "      <th>Baby Spinach Omelet</th>\n",
       "      <th>['egg', 'torn baby spinach leaf', 'parmesan', 'onion powder', 'ground nutmeg', 'salt pepper taste']</th>\n",
       "      <th>1.00</th>\n",
       "      <th>15.0</th>\n",
       "      <th>4.5</th>\n",
       "      <th>Omelets</th>\n",
       "      <th>https://www.allrecipes.com/recipe/69471/baby-spinach-omelet/</th>\n",
       "      <td>0.540709</td>\n",
       "    </tr>\n",
       "    <tr>\n",
       "      <th>Creamy Asparagus and Mushroom Pasta</th>\n",
       "      <th>['fettuccine', 'olive oil', 'butter', 'fresh asparagus', 'thinly shallot', 'salt ground black pepper taste', 'fresh mushroom', 'garlic', 'italian seasoning', 'heavy cream', 'parmesan']</th>\n",
       "      <th>0.92</th>\n",
       "      <th>25.0</th>\n",
       "      <th>4.8</th>\n",
       "      <th>Fettuccini</th>\n",
       "      <th>https://www.allrecipes.com/creamy-asparagus-and-mushroom-pasta-recipe-8682796</th>\n",
       "      <td>0.567936</td>\n",
       "    </tr>\n",
       "    <tr>\n",
       "      <th>Creamy Caramelized Onion Pasta</th>\n",
       "      <th>['favorite pasta', 'onion vertically', 'butter', 'oil', 'white sugar', 'salt ground black pepper taste', 'sherry vinegar', 'water', 'milk', 'garlic clove', 'thyme leaf', 'parmesan']</th>\n",
       "      <th>0.88</th>\n",
       "      <th>40.0</th>\n",
       "      <th>4.5</th>\n",
       "      <th>Vegetarian</th>\n",
       "      <th>https://www.allrecipes.com/creamy-caramelized-onion-pasta-recipe-8710600</th>\n",
       "      <td>0.558302</td>\n",
       "    </tr>\n",
       "    <tr>\n",
       "      <th>Cranberry-Orange Biscotti</th>\n",
       "      <th>['butter', 'white sugar', 'egg', 'orange zest', 'orange extract', 'almond extract', 'allpurpose flour', 'baking powder', 'baking soda', 'salt', 'sweetened dried cranberry taste']</th>\n",
       "      <th>0.85</th>\n",
       "      <th>80.0</th>\n",
       "      <th>4.7</th>\n",
       "      <th>Biscotti</th>\n",
       "      <th>https://www.allrecipes.com/recipe/231047/cranberry-orange-biscotti/</th>\n",
       "      <td>0.535763</td>\n",
       "    </tr>\n",
       "    <tr>\n",
       "      <th>15-Minute Butter Gnocchi with Spicy Chili Crisp, Capers and Parmesan</th>\n",
       "      <th>['gnocchi', 'butter', 'caper', 'chili crisp oil', 'parmesan']</th>\n",
       "      <th>0.80</th>\n",
       "      <th>15.0</th>\n",
       "      <th>4.0</th>\n",
       "      <th>Gnocchi</th>\n",
       "      <th>https://www.allrecipes.com/15-minute-butter-gnocchi-with-spicy-chili-crisp-capers-and-parmesan-recipe-8684030</th>\n",
       "      <td>0.517512</td>\n",
       "    </tr>\n",
       "    <tr>\n",
       "      <th>Potato Kugel</th>\n",
       "      <th>['vegetable oil', 'potato', 'onion', 'egg', 'vegetable oil', 'salt', 'black pepper']</th>\n",
       "      <th>0.80</th>\n",
       "      <th>120.0</th>\n",
       "      <th>4.7</th>\n",
       "      <th>Passover</th>\n",
       "      <th>https://www.allrecipes.com/recipe/204133/old-fashioned-potato-kugel/</th>\n",
       "      <td>0.554514</td>\n",
       "    </tr>\n",
       "    <tr>\n",
       "      <th>Quick and Easy Yorkshire Pudding</th>\n",
       "      <th>['egg', 'milk', 'allpurpose flour', 'butter']</th>\n",
       "      <th>0.80</th>\n",
       "      <th>40.0</th>\n",
       "      <th>4.6</th>\n",
       "      <th>Popovers and Yorkshire Puddings</th>\n",
       "      <th>https://www.allrecipes.com/recipe/22539/quick-and-easy-yorkshire-pudding/</th>\n",
       "      <td>0.518084</td>\n",
       "    </tr>\n",
       "    <tr>\n",
       "      <th>3-Ingredient Peanut Butter Oatmeal Cookies</th>\n",
       "      <th>['butter', 'maple syrup', 'oat']</th>\n",
       "      <th>0.75</th>\n",
       "      <th>45.0</th>\n",
       "      <th>4.8</th>\n",
       "      <th>Oatmeal Cookies</th>\n",
       "      <th>https://www.allrecipes.com/3-ingredient-peanut-butter-oatmeal-cookies-recipe-7971929</th>\n",
       "      <td>0.492264</td>\n",
       "    </tr>\n",
       "    <tr>\n",
       "      <th>Creamy Crockpot Macaroni and Cheese</th>\n",
       "      <th>['uncooked elbow macaroni', 'kosher salt', 'cooking spray', 'whole milk', 'evaporated milk', 'egg', 'egg yolk', 'butter', 'cream cheese cut piece', 'black pepper', 'sharp cheddar cheese']</th>\n",
       "      <th>0.75</th>\n",
       "      <th>130.0</th>\n",
       "      <th>3.8</th>\n",
       "      <th>Macaroni and Cheese</th>\n",
       "      <th>https://www.allrecipes.com/creamy-crockpot-macaroni-and-cheese-recipe-8661631</th>\n",
       "      <td>0.537946</td>\n",
       "    </tr>\n",
       "    <tr>\n",
       "      <th>Rosemary Mashed Potatoes</th>\n",
       "      <th>['russet potato cut inch chunk', 'milk', 'butter', 'fresh rosemary', 'parmesan', 'salt ground black pepper']</th>\n",
       "      <th>0.75</th>\n",
       "      <th>30.0</th>\n",
       "      <th>5.0</th>\n",
       "      <th>Mashed Potatoes</th>\n",
       "      <th>https://www.allrecipes.com/rosemary-mashed-potatoes-recipe-8634938</th>\n",
       "      <td>0.511503</td>\n",
       "    </tr>\n",
       "  </tbody>\n",
       "</table>\n",
       "</div>"
      ],
      "text/plain": [
       "                                                                                                                                                                                                                             Review Similarity\n",
       "name                                               ingredients                                        feasibility_score cook_time rating category                        url                                                                  \n",
       "Baby Spinach Omelet                                ['egg', 'torn baby spinach leaf', 'parmesan', '... 1.00              15.0      4.5    Omelets                         https://www.allrecipes.com/recipe/69471/baby-sp...           0.540709\n",
       "Creamy Asparagus and Mushroom Pasta                ['fettuccine', 'olive oil', 'butter', 'fresh as... 0.92              25.0      4.8    Fettuccini                      https://www.allrecipes.com/creamy-asparagus-and...           0.567936\n",
       "Creamy Caramelized Onion Pasta                     ['favorite pasta', 'onion vertically', 'butter'... 0.88              40.0      4.5    Vegetarian                      https://www.allrecipes.com/creamy-caramelized-o...           0.558302\n",
       "Cranberry-Orange Biscotti                          ['butter', 'white sugar', 'egg', 'orange zest',... 0.85              80.0      4.7    Biscotti                        https://www.allrecipes.com/recipe/231047/cranbe...           0.535763\n",
       "15-Minute Butter Gnocchi with Spicy Chili Crisp... ['gnocchi', 'butter', 'caper', 'chili crisp oil... 0.80              15.0      4.0    Gnocchi                         https://www.allrecipes.com/15-minute-butter-gno...           0.517512\n",
       "Potato Kugel                                       ['vegetable oil', 'potato', 'onion', 'egg', 've... 0.80              120.0     4.7    Passover                        https://www.allrecipes.com/recipe/204133/old-fa...           0.554514\n",
       "Quick and Easy Yorkshire Pudding                   ['egg', 'milk', 'allpurpose flour', 'butter']      0.80              40.0      4.6    Popovers and Yorkshire Puddings https://www.allrecipes.com/recipe/22539/quick-a...           0.518084\n",
       "3-Ingredient Peanut Butter Oatmeal Cookies         ['butter', 'maple syrup', 'oat']                   0.75              45.0      4.8    Oatmeal Cookies                 https://www.allrecipes.com/3-ingredient-peanut-...           0.492264\n",
       "Creamy Crockpot Macaroni and Cheese                ['uncooked elbow macaroni', 'kosher salt', 'coo... 0.75              130.0     3.8    Macaroni and Cheese             https://www.allrecipes.com/creamy-crockpot-maca...           0.537946\n",
       "Rosemary Mashed Potatoes                           ['russet potato cut inch chunk', 'milk', 'butte... 0.75              30.0      5.0    Mashed Potatoes                 https://www.allrecipes.com/rosemary-mashed-pota...           0.511503"
      ]
     },
     "execution_count": 70,
     "metadata": {},
     "output_type": "execute_result"
    }
   ],
   "source": [
    "recommendations"
   ]
  }
 ],
 "metadata": {
  "kernelspec": {
   "display_name": "base",
   "language": "python",
   "name": "python3"
  },
  "language_info": {
   "codemirror_mode": {
    "name": "ipython",
    "version": 3
   },
   "file_extension": ".py",
   "mimetype": "text/x-python",
   "name": "python",
   "nbconvert_exporter": "python",
   "pygments_lexer": "ipython3",
   "version": "3.12.2"
  }
 },
 "nbformat": 4,
 "nbformat_minor": 2
}
