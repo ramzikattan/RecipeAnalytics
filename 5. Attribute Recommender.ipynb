{
 "cells": [
  {
   "cell_type": "code",
   "execution_count": 71,
   "metadata": {},
   "outputs": [],
   "source": [
    "import spacy\n",
    "import pandas as pd"
   ]
  },
  {
   "cell_type": "code",
   "execution_count": 72,
   "metadata": {},
   "outputs": [],
   "source": [
    "# Import Medium Spacy File \n",
    "nlp = spacy.load('en_core_web_md')"
   ]
  },
  {
   "cell_type": "code",
   "execution_count": 73,
   "metadata": {},
   "outputs": [],
   "source": [
    "# Input Files\n",
    "recipes = pd.read_csv('4. FeasibleRecipes.csv')\n",
    "useroutput = pd.read_csv('3. UserOutput.csv')\n",
    "\n",
    "# Attribute Column\n",
    "attributes = useroutput['attributes'].dropna()"
   ]
  },
  {
   "cell_type": "code",
   "execution_count": 90,
   "metadata": {},
   "outputs": [
    {
     "name": "stdout",
     "output_type": "stream",
     "text": [
      "492 recipes that meet your requirements found!\n"
     ]
    }
   ],
   "source": [
    "# Create Threshold for Feasibility Scores\n",
    "feasible_recipes = recipes[recipes['feasibility_score'] >= 0.6]\n",
    "\n",
    "print(f\"{len(feasible_recipes)} recipes that meet your requirements found!\")"
   ]
  },
  {
   "cell_type": "code",
   "execution_count": 91,
   "metadata": {},
   "outputs": [],
   "source": [
    "# Spacy Similarity\n",
    "doc1 = nlp(''.join(attributes))\n",
    "\n",
    "# Initializing Similarity List \n",
    "spacy_scores = []\n",
    "\n",
    "# Calculating Similarity\n",
    "for text2 in feasible_recipes['review']:\n",
    "    try:\n",
    "        doc2 = nlp(text2)\n",
    "        spacy_scores.append(doc1.similarity(doc2))\n",
    "    except: \n",
    "        spacy_scores.append(0)"
   ]
  },
  {
   "cell_type": "code",
   "execution_count": 92,
   "metadata": {},
   "outputs": [
    {
     "name": "stderr",
     "output_type": "stream",
     "text": [
      "/var/folders/j4/01bw0t0n5195l3682d9brqz40000gn/T/ipykernel_30402/2542721314.py:2: SettingWithCopyWarning: \n",
      "A value is trying to be set on a copy of a slice from a DataFrame.\n",
      "Try using .loc[row_indexer,col_indexer] = value instead\n",
      "\n",
      "See the caveats in the documentation: https://pandas.pydata.org/pandas-docs/stable/user_guide/indexing.html#returning-a-view-versus-a-copy\n",
      "  feasible_recipes['Review Similarity'] = spacy_scores\n"
     ]
    }
   ],
   "source": [
    "# Saving Review Similarity Score\n",
    "feasible_recipes['Review Similarity'] = spacy_scores"
   ]
  },
  {
   "cell_type": "code",
   "execution_count": 131,
   "metadata": {},
   "outputs": [
    {
     "name": "stderr",
     "output_type": "stream",
     "text": [
      "/var/folders/j4/01bw0t0n5195l3682d9brqz40000gn/T/ipykernel_30402/3059707511.py:1: SettingWithCopyWarning: \n",
      "A value is trying to be set on a copy of a slice from a DataFrame.\n",
      "Try using .loc[row_indexer,col_indexer] = value instead\n",
      "\n",
      "See the caveats in the documentation: https://pandas.pydata.org/pandas-docs/stable/user_guide/indexing.html#returning-a-view-versus-a-copy\n",
      "  feasible_recipes['Evaluation Score'] = 0.7 *feasible_recipes['feasibility_score'] + 0.3 * feasible_recipes['Review Similarity']\n",
      "/var/folders/j4/01bw0t0n5195l3682d9brqz40000gn/T/ipykernel_30402/3059707511.py:2: SettingWithCopyWarning: \n",
      "A value is trying to be set on a copy of a slice from a DataFrame.\n",
      "Try using .loc[row_indexer,col_indexer] = value instead\n",
      "\n",
      "See the caveats in the documentation: https://pandas.pydata.org/pandas-docs/stable/user_guide/indexing.html#returning-a-view-versus-a-copy\n",
      "  feasible_recipes['Feasibility Score'] = feasible_recipes['feasibility_score']\n"
     ]
    }
   ],
   "source": [
    "feasible_recipes['Evaluation Score'] = 0.7 *feasible_recipes['feasibility_score'] + 0.3 * feasible_recipes['Review Similarity']\n",
    "feasible_recipes['Feasibility Score'] = feasible_recipes['feasibility_score']"
   ]
  },
  {
   "cell_type": "code",
   "execution_count": 129,
   "metadata": {},
   "outputs": [],
   "source": [
    "recommendations = feasible_recipes[['name', 'ingredients', 'cook_time', 'rating', 'category', 'url', 'Feasibility Score', 'Review Similarity', 'Evaluation Score']].groupby(['name', 'ingredients', 'cook_time', 'rating', 'category', 'url']).mean('Evaluation Score').sort_values('Evaluation Score', ascending = False)"
   ]
  },
  {
   "cell_type": "code",
   "execution_count": 130,
   "metadata": {},
   "outputs": [
    {
     "data": {
      "text/html": [
       "<div>\n",
       "<style scoped>\n",
       "    .dataframe tbody tr th:only-of-type {\n",
       "        vertical-align: middle;\n",
       "    }\n",
       "\n",
       "    .dataframe tbody tr th {\n",
       "        vertical-align: top;\n",
       "    }\n",
       "\n",
       "    .dataframe thead th {\n",
       "        text-align: right;\n",
       "    }\n",
       "</style>\n",
       "<table border=\"1\" class=\"dataframe\">\n",
       "  <thead>\n",
       "    <tr style=\"text-align: right;\">\n",
       "      <th></th>\n",
       "      <th></th>\n",
       "      <th></th>\n",
       "      <th></th>\n",
       "      <th></th>\n",
       "      <th></th>\n",
       "      <th>Feasibility Score</th>\n",
       "      <th>Review Similarity</th>\n",
       "      <th>Evaluation Score</th>\n",
       "    </tr>\n",
       "    <tr>\n",
       "      <th>name</th>\n",
       "      <th>ingredients</th>\n",
       "      <th>cook_time</th>\n",
       "      <th>rating</th>\n",
       "      <th>category</th>\n",
       "      <th>url</th>\n",
       "      <th></th>\n",
       "      <th></th>\n",
       "      <th></th>\n",
       "    </tr>\n",
       "  </thead>\n",
       "  <tbody>\n",
       "    <tr>\n",
       "      <th>Smash Burger Taco</th>\n",
       "      <th>['mayonnaise', 'ketchup', 'mustard', 'relish', 'hot sauce', 'lb ground round', 'kosher salt', 'ground black pepper', 'flour tortilla', 'american cheese cut half lengthwise', 'iceberg lettuce', 'onion']</th>\n",
       "      <th>20.0</th>\n",
       "      <th>4.6</th>\n",
       "      <th>Tacos</th>\n",
       "      <th>https://www.allrecipes.com/smash-burger-taco-recipe-7485747</th>\n",
       "      <td>0.75</td>\n",
       "      <td>0.583860</td>\n",
       "      <td>0.700158</td>\n",
       "    </tr>\n",
       "    <tr>\n",
       "      <th>Apple Cheddar Twists</th>\n",
       "      <th>['apple', 'lemon juice', 'butter', 'brown sugar', 'puff pastry', 'extra sharp cheddar cheese', 'sea salt']</th>\n",
       "      <th>80.0</th>\n",
       "      <th>4.5</th>\n",
       "      <th>Christmas</th>\n",
       "      <th>https://www.allrecipes.com/apple-cheddar-twists-recipe-8709986</th>\n",
       "      <td>0.60</td>\n",
       "      <td>0.642528</td>\n",
       "      <td>0.612758</td>\n",
       "    </tr>\n",
       "    <tr>\n",
       "      <th>4-Ingredient Keto Peanut Butter Cookies</th>\n",
       "      <th>['butter', 'lowcalorie natural sweetener', 'egg', 'sugarfree vanilla extract']</th>\n",
       "      <th>25.0</th>\n",
       "      <th>4.0</th>\n",
       "      <th>Sugar-Free Recipes</th>\n",
       "      <th>https://www.allrecipes.com/recipe/261181/4-ingredient-keto-peanut-butter-cookies/</th>\n",
       "      <td>0.60</td>\n",
       "      <td>0.610753</td>\n",
       "      <td>0.603226</td>\n",
       "    </tr>\n",
       "    <tr>\n",
       "      <th>Fried Egg Tortilla</th>\n",
       "      <th>['butter', 'egg', 'taco seasoning taste', 'cheddar cheese', 'flour tortilla']</th>\n",
       "      <th>9.0</th>\n",
       "      <th>4.3</th>\n",
       "      <th>Cooking for One</th>\n",
       "      <th>https://www.allrecipes.com/fried-egg-tortilla-recipe-7561904</th>\n",
       "      <td>0.60</td>\n",
       "      <td>0.603685</td>\n",
       "      <td>0.601105</td>\n",
       "    </tr>\n",
       "    <tr>\n",
       "      <th>Applesauce</th>\n",
       "      <th>['apple cored', 'water', 'ground cinnamon', 'ground clove', 'white sugar']</th>\n",
       "      <th>35.0</th>\n",
       "      <th>4.7</th>\n",
       "      <th>Applesauce</th>\n",
       "      <th>https://www.allrecipes.com/recipe/54346/applesauce/</th>\n",
       "      <td>0.60</td>\n",
       "      <td>0.587820</td>\n",
       "      <td>0.596346</td>\n",
       "    </tr>\n",
       "    <tr>\n",
       "      <th>Classic Macaroni Salad</th>\n",
       "      <th>['uncooked elbow macaroni', 'mayonnaise', 'white sugar', 'distilled white vinegar', 'prepared yellow mustard', 'salt', 'ground black pepper', 'stalk celery', 'onion', 'green bell pepper seeded', 'carrot', 'pimento pepper']</th>\n",
       "      <th>270.0</th>\n",
       "      <th>4.4</th>\n",
       "      <th>Kosher</th>\n",
       "      <th>https://www.allrecipes.com/recipe/81108/classic-macaroni-salad/</th>\n",
       "      <td>0.60</td>\n",
       "      <td>0.576630</td>\n",
       "      <td>0.592989</td>\n",
       "    </tr>\n",
       "    <tr>\n",
       "      <th>Million Dollar Deviled Eggs</th>\n",
       "      <th>['hardboiled egg', 'mayonnaise', 'butter', 'yellow mustard', 'sweet pickle juice', 'sriracha taste', 'salt ground black pepper taste', 'crumbled crisp cooked bacon']</th>\n",
       "      <th>15.0</th>\n",
       "      <th>5.0</th>\n",
       "      <th>Deviled Eggs</th>\n",
       "      <th>https://www.allrecipes.com/million-dollar-deviled-eggs-recipe-8669008</th>\n",
       "      <td>0.60</td>\n",
       "      <td>0.575943</td>\n",
       "      <td>0.592783</td>\n",
       "    </tr>\n",
       "    <tr>\n",
       "      <th>Cheese Grits Casserole</th>\n",
       "      <th>['whole milk', 'water', 'salt', 'quickcooking grit', 'processed cheese', 'sharp cheddar cheese', 'butter', 'garlic powder', 'egg beaten']</th>\n",
       "      <th>80.0</th>\n",
       "      <th>4.8</th>\n",
       "      <th>Grits</th>\n",
       "      <th>https://www.allrecipes.com/recipe/231528/cheese-grits-casserole/</th>\n",
       "      <td>0.60</td>\n",
       "      <td>0.549875</td>\n",
       "      <td>0.584962</td>\n",
       "    </tr>\n",
       "    <tr>\n",
       "      <th>Delicious Egg Salad</th>\n",
       "      <th>['egg', 'mayonnaise', 'green onion', 'prepared yellow mustard', 'paprika', 'salt pepper taste']</th>\n",
       "      <th>35.0</th>\n",
       "      <th>4.7</th>\n",
       "      <th>Egg Salads</th>\n",
       "      <th>https://www.allrecipes.com/recipe/147103/delicious-egg-salad-for-sandwiches/</th>\n",
       "      <td>0.60</td>\n",
       "      <td>0.540235</td>\n",
       "      <td>0.582070</td>\n",
       "    </tr>\n",
       "    <tr>\n",
       "      <th>Roast Beef and Cheddar Sliders</th>\n",
       "      <th>['butter', 'hawaiian roll split half horizontally', 'deli roast beef', 'thin tangy bbq sauce arbys original sauce', 'cheddar cheese sauce', 'garlic powder', 'onion powder', 'everything bagel seasoning']</th>\n",
       "      <th>22.0</th>\n",
       "      <th>4.8</th>\n",
       "      <th>Sliders</th>\n",
       "      <th>https://www.allrecipes.com/roast-beef-and-cheddar-sliders-recipe-8650250</th>\n",
       "      <td>0.60</td>\n",
       "      <td>0.503325</td>\n",
       "      <td>0.570997</td>\n",
       "    </tr>\n",
       "  </tbody>\n",
       "</table>\n",
       "</div>"
      ],
      "text/plain": [
       "                                                                                                                                                                                   Feasibility Score  \\\n",
       "name                                    ingredients                                        cook_time rating category           url                                                                     \n",
       "Smash Burger Taco                       ['mayonnaise', 'ketchup', 'mustard', 'relish', ... 20.0      4.6    Tacos              https://www.allrecipes.com/smash-burger-taco-re...               0.75   \n",
       "Apple Cheddar Twists                    ['apple', 'lemon juice', 'butter', 'brown sugar... 80.0      4.5    Christmas          https://www.allrecipes.com/apple-cheddar-twists...               0.60   \n",
       "4-Ingredient Keto Peanut Butter Cookies ['butter', 'lowcalorie natural sweetener', 'egg... 25.0      4.0    Sugar-Free Recipes https://www.allrecipes.com/recipe/261181/4-ingr...               0.60   \n",
       "Fried Egg Tortilla                      ['butter', 'egg', 'taco seasoning taste', 'ched... 9.0       4.3    Cooking for One    https://www.allrecipes.com/fried-egg-tortilla-r...               0.60   \n",
       "Applesauce                              ['apple cored', 'water', 'ground cinnamon', 'gr... 35.0      4.7    Applesauce         https://www.allrecipes.com/recipe/54346/applesa...               0.60   \n",
       "Classic Macaroni Salad                  ['uncooked elbow macaroni', 'mayonnaise', 'whit... 270.0     4.4    Kosher             https://www.allrecipes.com/recipe/81108/classic...               0.60   \n",
       "Million Dollar Deviled Eggs             ['hardboiled egg', 'mayonnaise', 'butter', 'yel... 15.0      5.0    Deviled Eggs       https://www.allrecipes.com/million-dollar-devil...               0.60   \n",
       "Cheese Grits Casserole                  ['whole milk', 'water', 'salt', 'quickcooking g... 80.0      4.8    Grits              https://www.allrecipes.com/recipe/231528/cheese...               0.60   \n",
       "Delicious Egg Salad                     ['egg', 'mayonnaise', 'green onion', 'prepared ... 35.0      4.7    Egg Salads         https://www.allrecipes.com/recipe/147103/delici...               0.60   \n",
       "Roast Beef and Cheddar Sliders          ['butter', 'hawaiian roll split half horizontal... 22.0      4.8    Sliders            https://www.allrecipes.com/roast-beef-and-chedd...               0.60   \n",
       "\n",
       "                                                                                                                                                                                   Review Similarity  \\\n",
       "name                                    ingredients                                        cook_time rating category           url                                                                     \n",
       "Smash Burger Taco                       ['mayonnaise', 'ketchup', 'mustard', 'relish', ... 20.0      4.6    Tacos              https://www.allrecipes.com/smash-burger-taco-re...           0.583860   \n",
       "Apple Cheddar Twists                    ['apple', 'lemon juice', 'butter', 'brown sugar... 80.0      4.5    Christmas          https://www.allrecipes.com/apple-cheddar-twists...           0.642528   \n",
       "4-Ingredient Keto Peanut Butter Cookies ['butter', 'lowcalorie natural sweetener', 'egg... 25.0      4.0    Sugar-Free Recipes https://www.allrecipes.com/recipe/261181/4-ingr...           0.610753   \n",
       "Fried Egg Tortilla                      ['butter', 'egg', 'taco seasoning taste', 'ched... 9.0       4.3    Cooking for One    https://www.allrecipes.com/fried-egg-tortilla-r...           0.603685   \n",
       "Applesauce                              ['apple cored', 'water', 'ground cinnamon', 'gr... 35.0      4.7    Applesauce         https://www.allrecipes.com/recipe/54346/applesa...           0.587820   \n",
       "Classic Macaroni Salad                  ['uncooked elbow macaroni', 'mayonnaise', 'whit... 270.0     4.4    Kosher             https://www.allrecipes.com/recipe/81108/classic...           0.576630   \n",
       "Million Dollar Deviled Eggs             ['hardboiled egg', 'mayonnaise', 'butter', 'yel... 15.0      5.0    Deviled Eggs       https://www.allrecipes.com/million-dollar-devil...           0.575943   \n",
       "Cheese Grits Casserole                  ['whole milk', 'water', 'salt', 'quickcooking g... 80.0      4.8    Grits              https://www.allrecipes.com/recipe/231528/cheese...           0.549875   \n",
       "Delicious Egg Salad                     ['egg', 'mayonnaise', 'green onion', 'prepared ... 35.0      4.7    Egg Salads         https://www.allrecipes.com/recipe/147103/delici...           0.540235   \n",
       "Roast Beef and Cheddar Sliders          ['butter', 'hawaiian roll split half horizontal... 22.0      4.8    Sliders            https://www.allrecipes.com/roast-beef-and-chedd...           0.503325   \n",
       "\n",
       "                                                                                                                                                                                   Evaluation Score  \n",
       "name                                    ingredients                                        cook_time rating category           url                                                                   \n",
       "Smash Burger Taco                       ['mayonnaise', 'ketchup', 'mustard', 'relish', ... 20.0      4.6    Tacos              https://www.allrecipes.com/smash-burger-taco-re...          0.700158  \n",
       "Apple Cheddar Twists                    ['apple', 'lemon juice', 'butter', 'brown sugar... 80.0      4.5    Christmas          https://www.allrecipes.com/apple-cheddar-twists...          0.612758  \n",
       "4-Ingredient Keto Peanut Butter Cookies ['butter', 'lowcalorie natural sweetener', 'egg... 25.0      4.0    Sugar-Free Recipes https://www.allrecipes.com/recipe/261181/4-ingr...          0.603226  \n",
       "Fried Egg Tortilla                      ['butter', 'egg', 'taco seasoning taste', 'ched... 9.0       4.3    Cooking for One    https://www.allrecipes.com/fried-egg-tortilla-r...          0.601105  \n",
       "Applesauce                              ['apple cored', 'water', 'ground cinnamon', 'gr... 35.0      4.7    Applesauce         https://www.allrecipes.com/recipe/54346/applesa...          0.596346  \n",
       "Classic Macaroni Salad                  ['uncooked elbow macaroni', 'mayonnaise', 'whit... 270.0     4.4    Kosher             https://www.allrecipes.com/recipe/81108/classic...          0.592989  \n",
       "Million Dollar Deviled Eggs             ['hardboiled egg', 'mayonnaise', 'butter', 'yel... 15.0      5.0    Deviled Eggs       https://www.allrecipes.com/million-dollar-devil...          0.592783  \n",
       "Cheese Grits Casserole                  ['whole milk', 'water', 'salt', 'quickcooking g... 80.0      4.8    Grits              https://www.allrecipes.com/recipe/231528/cheese...          0.584962  \n",
       "Delicious Egg Salad                     ['egg', 'mayonnaise', 'green onion', 'prepared ... 35.0      4.7    Egg Salads         https://www.allrecipes.com/recipe/147103/delici...          0.582070  \n",
       "Roast Beef and Cheddar Sliders          ['butter', 'hawaiian roll split half horizontal... 22.0      4.8    Sliders            https://www.allrecipes.com/roast-beef-and-chedd...          0.570997  "
      ]
     },
     "execution_count": 130,
     "metadata": {},
     "output_type": "execute_result"
    }
   ],
   "source": [
    "recommendations"
   ]
  }
 ],
 "metadata": {
  "kernelspec": {
   "display_name": "base",
   "language": "python",
   "name": "python3"
  },
  "language_info": {
   "codemirror_mode": {
    "name": "ipython",
    "version": 3
   },
   "file_extension": ".py",
   "mimetype": "text/x-python",
   "name": "python",
   "nbconvert_exporter": "python",
   "pygments_lexer": "ipython3",
   "version": "3.12.2"
  }
 },
 "nbformat": 4,
 "nbformat_minor": 2
}
